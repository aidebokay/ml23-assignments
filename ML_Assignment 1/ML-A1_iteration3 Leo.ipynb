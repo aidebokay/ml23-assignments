{
 "cells": [
  {
   "cell_type": "markdown",
   "metadata": {},
   "source": [
    "## Movie Reviews- Canvsd Discussion Assignment 3\n",
    "\n",
    "SVM -> SVC, Logistic Regression, SGD training\n",
    "Show the effect of 5 alterations (including default value) on a margin size parameter (alpha value within SGDClassifier)"
   ]
  },
  {
   "cell_type": "code",
   "execution_count": 1,
   "metadata": {},
   "outputs": [],
   "source": [
    "# all imports and magic commands\n",
    "import numpy as np\n",
    "import pandas as pd\n",
    "import matplotlib.pyplot as plt\n",
    "from my_measures import BinaryClassificationPerformance\n",
    "from sklearn.feature_extraction.text import HashingVectorizer\n",
    "from sklearn.feature_extraction.text import CountVectorizer\n",
    "from sklearn.feature_extraction.text import TfidfTransformer\n",
    "from scipy.sparse import csr_matrix, hstack\n",
    "from sklearn.preprocessing import StandardScaler\n",
    "from sklearn.model_selection import train_test_split\n",
    "\n",
    "%matplotlib inline"
   ]
  },
  {
   "cell_type": "markdown",
   "metadata": {},
   "source": [
    "### IMPORTANT!!! Make sure you are using `BinaryClassificationPerformance` v1.02"
   ]
  },
  {
   "cell_type": "code",
   "execution_count": 2,
   "metadata": {},
   "outputs": [
    {
     "name": "stdout",
     "output_type": "stream",
     "text": [
      "Help on class BinaryClassificationPerformance in module my_measures:\n",
      "\n",
      "class BinaryClassificationPerformance(builtins.object)\n",
      " |  BinaryClassificationPerformance(predictions, labels, desc, probabilities=None)\n",
      " |  \n",
      " |  Performance measures to evaluate the fit of a binary classification model, v1.02\n",
      " |  \n",
      " |  Methods defined here:\n",
      " |  \n",
      " |  __init__(self, predictions, labels, desc, probabilities=None)\n",
      " |      Initialize attributes: predictions-vector of predicted values for Y, labels-vector of labels for Y\n",
      " |  \n",
      " |  compute_measures(self)\n",
      " |      Compute performance measures defined by Flach p. 57\n",
      " |  \n",
      " |  img_indices(self)\n",
      " |      Get the indices of true and false positives to be able to locate the corresponding images in a list of image names\n",
      " |  \n",
      " |  ----------------------------------------------------------------------\n",
      " |  Data descriptors defined here:\n",
      " |  \n",
      " |  __dict__\n",
      " |      dictionary for instance variables (if defined)\n",
      " |  \n",
      " |  __weakref__\n",
      " |      list of weak references to the object (if defined)\n",
      "\n"
     ]
    }
   ],
   "source": [
    "help(BinaryClassificationPerformance)"
   ]
  },
  {
   "cell_type": "markdown",
   "metadata": {},
   "source": [
    "# Function for feature building and extraction on natural language data"
   ]
  },
  {
   "cell_type": "markdown",
   "metadata": {},
   "source": [
    "Applying Count Vectorizer + Adding other features"
   ]
  },
  {
   "cell_type": "code",
   "execution_count": 3,
   "metadata": {},
   "outputs": [],
   "source": [
    "# function that takes raw data and completes all preprocessing required before model fits\n",
    "def process_raw_data(fn, my_random_seed, test=False):\n",
    "    # read and summarize data\n",
    "    movie_data = pd.read_csv(fn, sep='\\t')\n",
    "    print(\"movie_data is:\", type(movie_data))\n",
    "    print(\"movie_data has\", movie_data.shape[0], \"rows and\", movie_data.shape[1], \"columns\", \"\\n\")\n",
    "    print(\"the data types for each of the columns in movie_data:\")\n",
    "    print(movie_data.dtypes, \"\\n\")\n",
    "    print(\"the first 10 rows in movie_data:\")\n",
    "    print(movie_data.head(5))\n",
    "    if (not test):\n",
    "        print(\"The rate of 'good' movie reviews in the dataset: \")\n",
    "        print(movie_data['sentiment'].mean())\n",
    "\n",
    "        \n",
    "    # Count vectorizer\n",
    "    if (not test): #fit_transform()\n",
    "        cv = CountVectorizer(analyzer = 'word', ngram_range=(1,2))\n",
    "        cv = CountVectorizer()\n",
    "        X_cv = cv.fit_transform(movie_data['review'])\n",
    "        fitted_transformations.append(cv)\n",
    "        print(\"Shape of CountVectorizer X:\")\n",
    "        print(X_cv.shape)\n",
    "    else: # transform() \n",
    "        X_cv = fitted_transformations[0].transform(movie_data.review)\n",
    "        print(\"Shape of CountVectorizer X:\")\n",
    "        print(X_cv.shape)\n",
    "        cv.get_feature_names_out()\n",
    "        \n",
    "\n",
    "    if (not test): #Tfidf\n",
    "        transformer = TfidfTransformer()\n",
    "        X_tfidf = transformer.fit_transform(X_cv)\n",
    "        fitted_transformations.append(transformer)\n",
    "    else:\n",
    "        X_tfidf = fitted_transformations[1].transform(X_cv)\n",
    "    \n",
    "    \n",
    "    # create additional quantitative features\n",
    "    # features from .csv to add to feature set\n",
    "    movie_data['word_count'] = movie_data['review'].str.split(' ').str.len()\n",
    "    movie_data['punc_count'] = movie_data['review'].str.count(\"\\.\")\n",
    "    movie_data['punc_count_2'] = movie_data['review'].str.count(\"\\!\")\n",
    "    #movie_data['all_caps'] = movie_data['review'].str.isupper().astype(int)\n",
    " \n",
    "    \n",
    "    # next on the list to do: count all the words that aren't all caps? \n",
    "    # could be helpful to look into [all caps / total number of reviews]\n",
    "\n",
    "\n",
    "    X_quant_features = movie_data[[\"word_count\", \"punc_count\",\"punc_count_2\"]]\n",
    "    print(\"Look at a few rows of the new quantitative features: \")\n",
    "    print(X_quant_features.head(10))\n",
    "    \n",
    "    # Combine all quantitative features into a single sparse matrix\n",
    "    X_quant_features_csr = csr_matrix(X_quant_features)\n",
    "    X_combined = hstack([X_tfidf, X_quant_features_csr])\n",
    "    X_matrix = csr_matrix(X_combined) # convert to sparse matrix\n",
    "    print(\"Size of combined bag of words and new quantitative variables matrix:\")\n",
    "    print(X_matrix.shape)\n",
    "    \n",
    "    # Create `X`, scaled matrix of features\n",
    "    # feature scaling\n",
    "    if (not test):\n",
    "        sc = StandardScaler(with_mean=False)\n",
    "        X = sc.fit_transform(X_matrix)\n",
    "        fitted_transformations.append(sc)\n",
    "        print(X.shape)\n",
    "        y = movie_data['sentiment']\n",
    "    else:\n",
    "        X = fitted_transformations[5].transform(X_matrix)\n",
    "        print(X.shape)\n",
    "    \n",
    "    \n",
    "    # Create Training and Test Sets\n",
    "    # enter an integer for the random_state parameter; any integer will work\n",
    "    if (test):\n",
    "        X_submission_test = X\n",
    "        print(\"Shape of X_test for submission:\")\n",
    "        print(X_submission_test.shape)\n",
    "        print('SUCCESS!')\n",
    "        return(movie_data, X_submission_test)\n",
    "    else: \n",
    "        X_train, X_test, y_train, y_test, X_raw_train, X_raw_test = train_test_split(X, y, movie_data, test_size=0.2, random_state=my_random_seed)\n",
    "        print(\"Shape of X_train and X_test:\")\n",
    "        print(X_train.shape)\n",
    "        print(X_test.shape)\n",
    "        print(\"Shape of y_train and y_test:\")\n",
    "        print(y_train.shape)\n",
    "        print(y_test.shape)\n",
    "        print(\"Shape of X_raw_train and X_raw_test:\")\n",
    "        print(X_raw_train.shape)\n",
    "        print(X_raw_test.shape)\n",
    "        print('SUCCESS!')\n",
    "        return(X_train, X_test, y_train, y_test, X_raw_train, X_raw_test)"
   ]
  },
  {
   "cell_type": "markdown",
   "metadata": {},
   "source": [
    "# Create training and test sets from function"
   ]
  },
  {
   "cell_type": "markdown",
   "metadata": {},
   "source": [
    "## Changed my random seed to 32"
   ]
  },
  {
   "cell_type": "code",
   "execution_count": 4,
   "metadata": {},
   "outputs": [
    {
     "name": "stdout",
     "output_type": "stream",
     "text": [
      "movie_data is: <class 'pandas.core.frame.DataFrame'>\n",
      "movie_data has 25000 rows and 3 columns \n",
      "\n",
      "the data types for each of the columns in movie_data:\n",
      "id           object\n",
      "sentiment     int64\n",
      "review       object\n",
      "dtype: object \n",
      "\n",
      "the first 10 rows in movie_data:\n",
      "       id  sentiment                                             review\n",
      "0  5814_8          1  With all this stuff going down at the moment w...\n",
      "1  2381_9          1  \\The Classic War of the Worlds\\\" by Timothy Hi...\n",
      "2  7759_3          0  The film starts with a manager (Nicholas Bell)...\n",
      "3  3630_4          0  It must be assumed that those who praised this...\n",
      "4  9495_8          1  Superbly trashy and wondrously unpretentious 8...\n",
      "The rate of 'good' movie reviews in the dataset: \n",
      "0.5\n",
      "Shape of CountVectorizer X:\n",
      "(25000, 74849)\n",
      "Look at a few rows of the new quantitative features: \n",
      "   word_count  punc_count  punc_count_2\n",
      "0         433          20             1\n",
      "1         158          16             0\n",
      "2         378          20             0\n",
      "3         379           8             0\n",
      "4         367           9             6\n",
      "5          89           5             0\n",
      "6         112           9             0\n",
      "7         132           9             0\n",
      "8         163           7             0\n",
      "9          43           5             0\n",
      "Size of combined bag of words and new quantitative variables matrix:\n",
      "(25000, 74852)\n",
      "(25000, 74852)\n",
      "Shape of X_train and X_test:\n",
      "(20000, 74852)\n",
      "(5000, 74852)\n",
      "Shape of y_train and y_test:\n",
      "(20000,)\n",
      "(5000,)\n",
      "Shape of X_raw_train and X_raw_test:\n",
      "(20000, 6)\n",
      "(5000, 6)\n",
      "SUCCESS!\n",
      "Number of fits stored in `fitted_transformations` list: \n",
      "3\n"
     ]
    }
   ],
   "source": [
    "# create an empty list to store any use of fit_transform() to transform() later\n",
    "# it is a global list to store model and feature extraction fits\n",
    "fitted_transformations = []\n",
    "\n",
    "# CHANGE FILE PATH and my_random_seed number (any integer other than 74 will do): \n",
    "X_train, X_test, y_train, y_test, X_raw_train, X_raw_test = process_raw_data(fn='moviereviews_train.tsv', my_random_seed=32)\n",
    "\n",
    "print(\"Number of fits stored in `fitted_transformations` list: \")\n",
    "print(len(fitted_transformations))"
   ]
  },
  {
   "cell_type": "markdown",
   "metadata": {},
   "source": [
    "# Fit (and tune) Various Models\n"
   ]
  },
  {
   "cell_type": "markdown",
   "metadata": {},
   "source": [
    "### MODEL: SGDC Classifier"
   ]
  },
  {
   "cell_type": "code",
   "execution_count": 5,
   "metadata": {},
   "outputs": [
    {
     "name": "stdout",
     "output_type": "stream",
     "text": [
      "{'Pos': 10006, 'Neg': 9994, 'TP': 10006, 'TN': 9994, 'FP': 0, 'FN': 0, 'Accuracy': 1.0, 'Precision': 1.0, 'Recall': 1.0, 'desc': 'sgd_train'}\n"
     ]
    }
   ],
   "source": [
    "from sklearn.linear_model import SGDClassifier \n",
    "from sklearn.pipeline import make_pipeline\n",
    "\n",
    "sgd = SGDClassifier(alpha=0.001, max_iter=1000, tol=1e-3)\n",
    "sgd.fit(X_train, y_train)\n",
    "\n",
    "sgd_performance_train = BinaryClassificationPerformance(sgd.predict(X_train), y_train, 'sgd_train')\n",
    "sgd_performance_train.compute_measures()\n",
    "\n",
    "print(sgd_performance_train.performance_measures)\n"
   ]
  },
  {
   "cell_type": "code",
   "execution_count": 6,
   "metadata": {},
   "outputs": [
    {
     "name": "stdout",
     "output_type": "stream",
     "text": [
      "{'Pos': 10006, 'Neg': 9994, 'TP': 10005, 'TN': 9994, 'FP': 0, 'FN': 1, 'Accuracy': 0.99995, 'Precision': 1.0, 'Recall': 0.9999000599640215, 'desc': 'sgd_train0.001'}\n",
      "{'Pos': 10006, 'Neg': 9994, 'TP': 9980, 'TN': 9977, 'FP': 17, 'FN': 26, 'Accuracy': 0.99785, 'Precision': 0.998299489846954, 'Recall': 0.9974015590645613, 'desc': 'sgd_train1'}\n",
      "{'Pos': 10006, 'Neg': 9994, 'TP': 9583, 'TN': 9836, 'FP': 158, 'FN': 423, 'Accuracy': 0.97095, 'Precision': 0.9837798993943127, 'Recall': 0.9577253647811313, 'desc': 'sgd_train10'}\n",
      "{'Pos': 10006, 'Neg': 9994, 'TP': 8672, 'TN': 9864, 'FP': 130, 'FN': 1334, 'Accuracy': 0.9268, 'Precision': 0.9852306294024086, 'Recall': 0.8666799920047972, 'desc': 'sgd_train100'}\n",
      "{'Pos': 10006, 'Neg': 9994, 'TP': 9335, 'TN': 9631, 'FP': 363, 'FN': 671, 'Accuracy': 0.9483, 'Precision': 0.9625696019797897, 'Recall': 0.932940235858485, 'desc': 'sgd_train1000'}\n"
     ]
    }
   ],
   "source": [
    "#Trying to put all alpha values in at once rather than in 5 separate cells for code efficiency and cleanliness\n",
    "\n",
    "from sklearn.linear_model import SGDClassifier \n",
    "\n",
    "n_alphas = [.001, 1, 10, 100, 1000]\n",
    "performance_measures = []\n",
    "sgd_testing = []\n",
    "\n",
    "for n in n_alphas:\n",
    "    sgd = SGDClassifier(alpha=n)\n",
    "    sgd.fit(X_train, y_train)\n",
    "    \n",
    "    sgd_performance_train = BinaryClassificationPerformance(sgd.predict(X_train), y_train, 'sgd_train' + str(n))\n",
    "    sgd_performance_train.compute_measures()\n",
    "    performance_measures.append(sgd_performance_train)\n",
    "    sgd_testing.append(sgd)\n",
    "    \n",
    "    print(sgd_performance_train.performance_measures)"
   ]
  },
  {
   "cell_type": "code",
   "execution_count": 7,
   "metadata": {},
   "outputs": [
    {
     "data": {
      "image/png": "[encoded data removed]",
      "text/plain": [
       "<Figure size 640x480 with 1 Axes>"
      ]
     },
     "metadata": {},
     "output_type": "display_data"
    }
   ],
   "source": [
    "for fit in performance_measures:\n",
    "    plt.plot(fit.performance_measures['FP'] / fit.performance_measures['Neg'], \n",
    "             fit.performance_measures['TP'] / fit.performance_measures['Pos'], 'bo')\n",
    "    plt.text(fit.performance_measures['FP'] / fit.performance_measures['Neg'], \n",
    "             fit.performance_measures['TP'] / fit.performance_measures['Pos'], fit.desc)\n",
    "plt.axis([0, 1, 0, 1])\n",
    "plt.title('ROC plot: training set')\n",
    "plt.xlabel('False positive rate')\n",
    "plt.ylabel('True positive rate')\n",
    "plt.show()"
   ]
  },
  {
   "cell_type": "code",
   "execution_count": 8,
   "metadata": {},
   "outputs": [
    {
     "name": "stdout",
     "output_type": "stream",
     "text": [
      "{'Pos': 2494, 'Neg': 2506, 'TP': 2108, 'TN': 2174, 'FP': 332, 'FN': 386, 'Accuracy': 0.8564, 'Precision': 0.8639344262295082, 'Recall': 0.8452285485164395, 'desc': 'sgd_test'}\n"
     ]
    }
   ],
   "source": [
    "sgd_performance_test = BinaryClassificationPerformance(sgd.predict(X_test), y_test, 'sgd_test')\n",
    "sgd_performance_test.compute_measures()\n",
    "print(sgd_performance_test.performance_measures)"
   ]
  },
  {
   "cell_type": "code",
   "execution_count": 9,
   "metadata": {},
   "outputs": [
    {
     "name": "stdout",
     "output_type": "stream",
     "text": [
      "{'Pos': 2494, 'Neg': 2506, 'TP': 2094, 'TN': 2053, 'FP': 453, 'FN': 400, 'Accuracy': 0.8294, 'Precision': 0.8221436984687868, 'Recall': 0.8396150761828388, 'desc': 'sgd_test0'}\n",
      "{'Pos': 2494, 'Neg': 2506, 'TP': 2196, 'TN': 2194, 'FP': 312, 'FN': 298, 'Accuracy': 0.878, 'Precision': 0.8755980861244019, 'Recall': 0.8805132317562149, 'desc': 'sgd_test1'}\n",
      "{'Pos': 2494, 'Neg': 2506, 'TP': 2137, 'TN': 2253, 'FP': 253, 'FN': 357, 'Accuracy': 0.878, 'Precision': 0.894142259414226, 'Recall': 0.8568564554931837, 'desc': 'sgd_test2'}\n",
      "{'Pos': 2494, 'Neg': 2506, 'TP': 1829, 'TN': 2360, 'FP': 146, 'FN': 665, 'Accuracy': 0.8378, 'Precision': 0.9260759493670886, 'Recall': 0.7333600641539695, 'desc': 'sgd_test3'}\n",
      "{'Pos': 2494, 'Neg': 2506, 'TP': 2108, 'TN': 2174, 'FP': 332, 'FN': 386, 'Accuracy': 0.8564, 'Precision': 0.8639344262295082, 'Recall': 0.8452285485164395, 'desc': 'sgd_test4'}\n"
     ]
    }
   ],
   "source": [
    "test_measures = []\n",
    "    \n",
    "for i in range (0,5):\n",
    "    \n",
    "    sgd_performance_test = BinaryClassificationPerformance(sgd_testing[i].predict(X_test), y_test, 'sgd_test' + str(i))\n",
    "    sgd_performance_test.compute_measures()\n",
    "    test_measures.append(sgd_performance_test)\n",
    "    \n",
    "    print(sgd_performance_test.performance_measures)"
   ]
  },
  {
   "cell_type": "code",
   "execution_count": 10,
   "metadata": {},
   "outputs": [
    {
     "data": {
      "image/png": "[encoded data removed]",
      "text/plain": [
       "<Figure size 640x480 with 1 Axes>"
      ]
     },
     "metadata": {},
     "output_type": "display_data"
    }
   ],
   "source": [
    "for fit in test_measures:\n",
    "    plt.plot(fit.performance_measures['FP'] / fit.performance_measures['Neg'], \n",
    "             fit.performance_measures['TP'] / fit.performance_measures['Pos'], 'bo')\n",
    "    plt.text(fit.performance_measures['FP'] / fit.performance_measures['Neg'], \n",
    "             fit.performance_measures['TP'] / fit.performance_measures['Pos'], fit.desc)\n",
    "plt.axis([0, 1, 0, 1])\n",
    "plt.title('ROC plot: test set')\n",
    "plt.xlabel('False positive rate')\n",
    "plt.ylabel('True positive rate')\n",
    "plt.show()"
   ]
  },
  {
   "cell_type": "code",
   "execution_count": null,
   "metadata": {},
   "outputs": [],
   "source": []
  }
 ],
 "metadata": {
  "kernelspec": {
   "display_name": "Python 3 (ipykernel)",
   "language": "python",
   "name": "python3"
  },
  "language_info": {
   "codemirror_mode": {
    "name": "ipython",
    "version": 3
   },
   "file_extension": ".py",
   "mimetype": "text/x-python",
   "name": "python",
   "nbconvert_exporter": "python",
   "pygments_lexer": "ipython3",
   "version": "3.9.13"
  }
 },
 "nbformat": 4,
 "nbformat_minor": 2
}
